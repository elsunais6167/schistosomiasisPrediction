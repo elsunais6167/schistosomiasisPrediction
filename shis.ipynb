{
 "cells": [
  {
   "cell_type": "code",
   "execution_count": 1,
   "metadata": {},
   "outputs": [],
   "source": [
    "#import libraries\n",
    "\n",
    "import pandas as pd\n",
    "import numpy as np\n",
    "\n",
    "from sklearn.model_selection import train_test_split\n",
    "from sklearn.svm import SVC\n",
    "from sklearn.naive_bayes import GaussianNB\n",
    "from sklearn.linear_model import LogisticRegression\n",
    "\n",
    "import sklearn.metrics as metrics\n",
    "from sklearn.metrics import confusion_matrix, accuracy_score, precision_score, recall_score\n",
    "from sklearn.metrics import classification_report\n"
   ]
  },
  {
   "cell_type": "code",
   "execution_count": 2,
   "metadata": {},
   "outputs": [],
   "source": [
    "#load dataset\n",
    "data = pd.read_csv('schistoma.csv')"
   ]
  },
  {
   "cell_type": "code",
   "execution_count": 3,
   "metadata": {},
   "outputs": [],
   "source": [
    "#defining the data into (X) Independent and (y) dependent variables\n",
    "X = data[['abdominal', 'diarrhea', 'bloody_stool', 'bloody_urine', 'swim', 'dam_river_use', 'urinating_stool_in_water', 'boil_water_use']]\n",
    "y = data['status'] "
   ]
  },
  {
   "cell_type": "code",
   "execution_count": 4,
   "metadata": {},
   "outputs": [],
   "source": [
    "#spliting the into training and test based on 80/20%\n",
    "X_train, X_test, y_train, y_test = train_test_split(X, y, train_size=0.8, test_size=0.2, random_state=42)"
   ]
  },
  {
   "cell_type": "code",
   "execution_count": 5,
   "metadata": {},
   "outputs": [],
   "source": [
    "#machine Learning algorithms\n",
    "logic = LogisticRegression()\n",
    "vector = SVC()\n",
    "bayes = GaussianNB()"
   ]
  },
  {
   "cell_type": "code",
   "execution_count": 6,
   "metadata": {},
   "outputs": [
    {
     "data": {
      "text/plain": [
       "GaussianNB()"
      ]
     },
     "execution_count": 6,
     "metadata": {},
     "output_type": "execute_result"
    }
   ],
   "source": [
    "#training dataset using machine learning algorithms\n",
    "logic.fit(X_train, y_train)\n",
    "vector.fit(X_train, y_train)\n",
    "bayes.fit(X_train, y_train)"
   ]
  },
  {
   "cell_type": "code",
   "execution_count": 7,
   "metadata": {},
   "outputs": [
    {
     "name": "stdout",
     "output_type": "stream",
     "text": [
      "---------Prediction Scores------\n",
      "Logistic prediction confidence is 97.85714285714285 %\n",
      "Vector prediction confidence is 97.85714285714285 %\n",
      "Bayes prediction confidence is 91.9047619047619 %\n"
     ]
    }
   ],
   "source": [
    "#confidence score counts with test data\n",
    "logic_score = logic.score(X_test, y_test)\n",
    "vector_score = vector.score(X_test, y_test)\n",
    "bayes_score = bayes.score(X_test, y_test)\n",
    "\n",
    "print('---------Prediction Scores------')\n",
    "\n",
    "print('Logistic prediction confidence is', logic_score*100,'%')\n",
    "print('Vector prediction confidence is', vector_score*100,'%')\n",
    "print('Bayes prediction confidence is', bayes_score*100,'%')"
   ]
  },
  {
   "cell_type": "code",
   "execution_count": 8,
   "metadata": {},
   "outputs": [
    {
     "name": "stdout",
     "output_type": "stream",
     "text": [
      "---------Classification Report------\n",
      "Logistic Regression Classfier Report:\n",
      "              precision    recall  f1-score   support\n",
      "\n",
      "           0       0.95      1.00      0.98       191\n",
      "           1       1.00      0.96      0.98       229\n",
      "\n",
      "    accuracy                           0.98       420\n",
      "   macro avg       0.98      0.98      0.98       420\n",
      "weighted avg       0.98      0.98      0.98       420\n",
      "\n",
      "Support Vector Classifier Report:\n",
      "              precision    recall  f1-score   support\n",
      "\n",
      "           0       0.95      1.00      0.98       191\n",
      "           1       1.00      0.96      0.98       229\n",
      "\n",
      "    accuracy                           0.98       420\n",
      "   macro avg       0.98      0.98      0.98       420\n",
      "weighted avg       0.98      0.98      0.98       420\n",
      "\n",
      "Naive Bayes Classifier Report:\n",
      "              precision    recall  f1-score   support\n",
      "\n",
      "           0       0.88      0.96      0.91       191\n",
      "           1       0.96      0.89      0.92       229\n",
      "\n",
      "    accuracy                           0.92       420\n",
      "   macro avg       0.92      0.92      0.92       420\n",
      "weighted avg       0.92      0.92      0.92       420\n",
      "\n"
     ]
    }
   ],
   "source": [
    "#evaluate algorithms performances using confusion matrix/classification report\n",
    "y_log = logic.predict(X_test)\n",
    "y_vec = vector.predict(X_test)\n",
    "y_bay = bayes.predict(X_test)\n",
    "\n",
    "print('---------Classification Report------')\n",
    "\n",
    "print('Logistic Regression Classfier Report:')\n",
    "print(classification_report(y_test, y_log))\n",
    "\n",
    "print('Support Vector Classifier Report:')\n",
    "print(classification_report(y_test, y_vec))\n",
    "\n",
    "print('Naive Bayes Classifier Report:')\n",
    "print(classification_report(y_test, y_bay))"
   ]
  }
 ],
 "metadata": {
  "interpreter": {
   "hash": "31f2aee4e71d21fbe5cf8b01ff0e069b9275f58929596ceb00d14d90e3e16cd6"
  },
  "kernelspec": {
   "display_name": "Python 3.6.9 64-bit",
   "name": "python3"
  },
  "language_info": {
   "codemirror_mode": {
    "name": "ipython",
    "version": 3
   },
   "file_extension": ".py",
   "mimetype": "text/x-python",
   "name": "python",
   "nbconvert_exporter": "python",
   "pygments_lexer": "ipython3",
   "version": "3.6.9"
  },
  "orig_nbformat": 4
 },
 "nbformat": 4,
 "nbformat_minor": 2
}